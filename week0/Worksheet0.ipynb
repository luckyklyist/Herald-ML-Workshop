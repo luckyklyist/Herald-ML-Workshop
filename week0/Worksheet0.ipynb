{
  "cells": [
    {
      "cell_type": "markdown",
      "metadata": {
        "id": "AF0n_mgbMdaK"
      },
      "source": [
        "\n",
        "4 TO - DO - Task\n",
        "Please complete all the problem listed below.\n",
        "4.1 Exercise on Functions:\n",
        "Task - 1:\n",
        "Create a Python program that converts between different units of measurement.\n",
        "• The program should:\n",
        "1. Prompt the user to choose the type of conversion (e.g., length, weight, volume).\n",
        "2. Ask the user to input the value to be converted.\n",
        "3. Perform the conversion and display the result.\n",
        "4. Handle potential errors, such as invalid input or unsupported conversion types.\n",
        "• Requirements:\n",
        "1. Functions: Define at least one function to perform the conversion.\n",
        "2. Error Handling: Use try-except blocks to handle invalid input (e.g., non-numeric values).\n",
        "3. User Input: Prompt the user to select the conversion type and input the value.\n",
        "4. Docstrings: Include a docstring in your function to describe its purpose, parameters, and\n",
        "return value.\n",
        "• Conversion Options:\n",
        "1. Length:\n",
        "– Convert meters (m) to feet (ft).\n",
        "– Convert feet (ft) to meters (m).\n",
        "2. Weight:\n",
        "– Convert kilograms (kg) to pounds (lbs).\n",
        "– Convert pounds (lbs) to kilograms (kg).\n",
        "3. Volume:\n",
        "– Convert liters (L) to gallons (gal).\n",
        "– Convert gallons (gal) to liters (L).\n",
        "\n",
        "Task - 2:\n",
        "Create a Python program that performs various mathematical operations on a list of numbers.\n",
        "• The Program should:\n",
        "1. Prompt the user to choose an operation (e.g., find the sum, average, maximum, or minimum\n",
        "of the numbers).\n",
        "2. Ask the user to input a list of numbers (separated by spaces).\n",
        "\n",
        "18\n",
        "\n",
        "6CS012 Worksheet - 0 Siman Giri\n",
        "\n",
        "3. Perform the selected operation and display the result.\n",
        "4. Handle potential errors, such as invalid input or empty lists.\n",
        "• Requirements:\n",
        "\n",
        "1. Functions: Define at least one function for each operation (sum, average, maximum, mini-\n",
        "mum).\n",
        "\n",
        "2. Error Handling: Use try-except blocks to handle invalid input (e.g., non-numeric values or\n",
        "empty lists).\n",
        "3. User Input: Prompt the user to select the operation and input the list of numbers.\n",
        "4. Docstrings: Include a docstring in each function to describe its purpose, parameters, and\n",
        "return value.\n",
        "\n",
        "4.2 Exercise on List Manipulation:\n",
        "1. Extract Every Other Element:\n",
        "Write a Python function that extracts every other element from a list, starting from the first element.\n",
        "• Requirements:\n",
        "– Define a function extract every other(lst) that takes a list lst as input and returns a\n",
        "new list containing every other element from the original list.\n",
        "– Example: For the input [1, 2, 3, 4, 5, 6], the output should be [1, 3, 5].\n",
        "2. Slice a Sublist:\n",
        "Write a Python function that returns a sublist from a given list, starting from a specified index and\n",
        "ending at another specified index.\n",
        "• Requirements:\n",
        "– Define a function get sublist(lst, start, end) that takes a list lst, a starting index\n",
        "start, and an ending index end as input and returns the sublist from start to end (inclusive).\n",
        "– Example: For the input [1, 2, 3, 4, 5, 6] with start=2 and end=4, the output should\n",
        "be [3, 4, 5].\n",
        "\n",
        "3. Reverse a List Using Slicing:\n",
        "Write a Python function that reverses a list using slicing.\n",
        "• Requirements:\n",
        "– Define a function reverse list(lst) that takes a list lst and returns a reversed list using\n",
        "slicing.\n",
        "– Example: For the input [1, 2, 3, 4, 5], the output should be [5, 4, 3, 2, 1].\n",
        "\n",
        "19\n",
        "\n",
        "6CS012 Worksheet - 0 Siman Giri\n",
        "\n",
        "4. Remove the First and Last Elements:\n",
        "Write a Python function that removes the first and last elements of a list and returns the resulting\n",
        "sublist.\n",
        "• Requirements:\n",
        "– Define a function remove first last(lst) that takes a list lst and returns a sublist without\n",
        "the first and last elements using slicing.\n",
        "– Example: For the input [1, 2, 3, 4, 5], the output should be [2, 3, 4].\n",
        "5. Get the First n Elements:\n",
        "Write a Python function that extracts the first n elements from a list.\n",
        "• Requirements:\n",
        "– Define a function get first n(lst, n) that takes a list lst and an integer n as input and\n",
        "returns the first n elements of the list using slicing.\n",
        "– Example: For the input [1, 2, 3, 4, 5] with n=3, the output should be [1, 2, 3].\n",
        "6. Extract Elements from the End:\n",
        "Write a Python function that extracts the last n elements of a list using slicing.\n",
        "• Requirements:\n",
        "– Define a function get last n(lst, n) that takes a list lst and an integer n as input and\n",
        "returns the last n elements of the list.\n",
        "– Example: For the input [1, 2, 3, 4, 5] with n=2, the output should be [4, 5].\n",
        "7. Extract Elements in Reverse Order:\n",
        "Write a Python function that extracts a list of elements in reverse order starting from the second-to-last\n",
        "element and skipping one element in between.\n",
        "• Requirements:\n",
        "– Define a function reverse skip(lst) that takes a list lst and returns a new list containing\n",
        "every second element starting from the second-to-last, moving backward.\n",
        "– Example: For the input [1, 2, 3, 4, 5, 6], the output should be [5, 3, 1].\n",
        "\n",
        "20\n",
        "\n",
        "6CS012 Worksheet - 0 Siman Giri\n",
        "\n",
        "4.3 Exercise on Nested List:\n",
        "1. Flatten a Nested List:\n",
        "Write a Python function that takes a nested list and flattens it into a single list, where all the elements\n",
        "are in a single dimension.\n",
        "• Requirements:\n",
        "– Define a function flatten(lst) that takes a nested list lst and returns a flattened version\n",
        "of the list.\n",
        "– Example: For the input [[1, 2], [3, 4], [5]], the output should be [1, 2, 3, 4, 5].\n",
        "2. Accessing Nested List Elements:\n",
        "Write a Python function that extracts a specific element from a nested list given its indices.\n",
        "• Requirements:\n",
        "– Define a function access nested element(lst, indices) that takes a nested list lst and\n",
        "a list of indices indices, and returns the element at that position.\n",
        "– Example: For the input lst = [[1, 2, 3], [4, 5, 6], [7, 8, 9]] with indices = [1,\n",
        "2], the output should be 6.\n",
        "3. Sum of All Elements in a Nested List:\n",
        "Write a Python function that calculates the sum of all the numbers in a nested list (regardless of depth).\n",
        "• Requirements:\n",
        "– Define a function sum nested(lst) that takes a nested list lst and returns the sum of all\n",
        "the elements.\n",
        "– Example: For the input [[1, 2], [3, [4, 5]], 6], the output should be 21.\n",
        "4. Remove Specific Element from a Nested List:\n",
        "Write a Python function that removes all occurrences of a specific element from a nested list.\n",
        "• Requirements:\n",
        "– Define a function remove element(lst, elem) that removes elem from lst and returns the\n",
        "modified list.\n",
        "– Example: For the input lst = [[1, 2], [3, 2], [4, 5]] and elem = 2, the output should\n",
        "be [[1], [3], [4, 5]].\n",
        "\n",
        "5. Find the Maximum Element in a Nested List:\n",
        "Write a Python function that finds the maximum element in a nested list (regardless of depth).\n",
        "• Requirements:\n",
        "– Define a function find max(lst) that takes a nested list lst and returns the maximum\n",
        "element.\n",
        "– Example: For the input [[1, 2], [3, [4, 5]], 6], the output should be 6.\n",
        "\n",
        "21\n",
        "\n",
        "6CS012 Worksheet - 0 Siman Giri\n",
        "\n",
        "6. Count Occurrences of an Element in a Nested List:\n",
        "Write a Python function that counts how many times a specific element appears in a nested list.\n",
        "• Requirements:\n",
        "– Define a function count occurrences(lst, elem) that counts the occurrences of elem in\n",
        "the nested list lst.\n",
        "– Example: For the input lst = [[1, 2], [2, 3], [2, 4]] and elem = 2, the output should\n",
        "be 3.\n",
        "\n",
        "7. Flatten a List of Lists of Lists:\n",
        "Write a Python function that flattens a list of lists of lists into a single list, regardless of the depth.\n",
        "• Requirements:\n",
        "– Define a function deep flatten(lst) that takes a deeply nested list lst and returns a single\n",
        "flattened list.\n",
        "– Example: For the input [[[1, 2], [3, 4]], [[5, 6], [7, 8]]], the output should be\n",
        "[1, 2, 3, 4, 5, 6, 7, 8].\n",
        "\n",
        "8. Nested List Average:\n",
        "Write a Python function that calculates the average of all elements in a nested list.\n",
        "• Requirements:\n",
        "– Define a function average nested(lst) that takes a nested list lst and returns the average\n",
        "of all the elements.\n",
        "– Example: For the input [[1, 2], [3, 4], [5, 6]], the output should be 3.5."
      ]
    },
    {
      "cell_type": "markdown",
      "metadata": {
        "id": "NcH1d1vQMxla"
      },
      "source": [
        "***Prompt the user to choose the type of conversion (e.g., length, weight, volume).\n",
        "Ask the user to input the value to be converted.\n",
        "Perform the conversion and display the result.\n",
        "Handle potential errors, such as invalid input or unsupported conversion types. • Requirements:\n",
        "Functions: Define at least one function to perform the conversion.\n",
        "Error Handling: Use try-except blocks to handle invalid input (e.g., non-numeric values).\n",
        "User Input: Prompt the user to select the conversion type and input the value.\n",
        "Docstrings: Include a docstring in your function to describe its purpose, parameters, and return value. • Conversion Options:\n",
        "Length: – Convert meters (m) to feet (ft). – Convert feet (ft) to meters (m).\n",
        "Weight: – Convert kilograms (kg) to pounds (lbs). – Convert pounds (lbs) to kilograms (kg).\n",
        "Volume: – Convert liters (L) to gallons (gal). – Convert gallons (gal) to liters (L).***"
      ]
    },
    {
      "cell_type": "code",
      "execution_count": 1,
      "metadata": {
        "id": "uSajLs_SMxZM"
      },
      "outputs": [],
      "source": [
        "def convert_length(value, unit_from, unit_to):\n",
        "\n",
        "    if unit_from == 'm' and unit_to == 'ft':\n",
        "        return value * 3.28084\n",
        "    elif unit_from == 'ft' and unit_to == 'm':\n",
        "        return value / 3.28084\n",
        "    else:\n",
        "        raise ValueError(\"Invalid length conversion units.\")"
      ]
    },
    {
      "cell_type": "code",
      "execution_count": 2,
      "metadata": {
        "id": "iWvJqRd6Mbll"
      },
      "outputs": [],
      "source": [
        "def convert_weight(value, unit_from, unit_to):\n",
        "    if unit_from == 'kg' and unit_to == 'lbs':\n",
        "        return value * 2.20462\n",
        "    elif unit_from == 'lbs' and unit_to == 'kg':\n",
        "        return value / 2.20462\n",
        "    else:\n",
        "        raise ValueError(\"Invalid weight conversion units.\")"
      ]
    },
    {
      "cell_type": "code",
      "execution_count": 3,
      "metadata": {
        "id": "EO1DtU3NNEVG"
      },
      "outputs": [],
      "source": [
        "def convert_volume(value, unit_from, unit_to):\n",
        "    if unit_from == 'L' and unit_to == 'gal':\n",
        "        return value * 0.264172\n",
        "    elif unit_from == 'gal' and unit_to == 'L':\n",
        "        return value / 0.264172\n",
        "    else:\n",
        "        raise ValueError(\"Invalid volume conversion units.\")\n"
      ]
    },
    {
      "cell_type": "code",
      "execution_count": 4,
      "metadata": {
        "id": "ZGM3T7jdNE1S"
      },
      "outputs": [],
      "source": [
        "def main():\n",
        "    try:\n",
        "        conversion_type = input(\"Choose conversion type (length/weight/volume): \").lower()\n",
        "        value = float(input(\"Enter the value to convert: \"))\n",
        "\n",
        "        if conversion_type == 'length':\n",
        "            unit_from = input(\"Convert from (m/ft): \").lower()\n",
        "            unit_to = input(\"Convert to (m/ft): \").lower()\n",
        "            result = convert_length(value, unit_from, unit_to)\n",
        "\n",
        "        elif conversion_type == 'weight':\n",
        "            unit_from = input(\"Convert from (kg/lbs): \").lower()\n",
        "            unit_to = input(\"Convert to (kg/lbs): \").lower()\n",
        "            result = convert_weight(value, unit_from, unit_to)\n",
        "\n",
        "        elif conversion_type == 'volume':\n",
        "            unit_from = input(\"Convert from (L/gal): \").lower()\n",
        "            unit_to = input(\"Convert to (L/gal): \").lower()\n",
        "            result = convert_volume(value, unit_from, unit_to)\n",
        "\n",
        "        else:\n",
        "            raise ValueError(\"Unsupported conversion type.\")\n",
        "\n",
        "        print(f\"Converted value: {result:.2f} {unit_to}\")\n",
        "\n",
        "    except ValueError as e:\n",
        "        print(f\"Error: {e}\")\n",
        "    except Exception as e:\n",
        "        print(f\"An unexpected error occurred: {e}\")"
      ]
    },
    {
      "cell_type": "code",
      "execution_count": 5,
      "metadata": {
        "id": "cAbOUFL3NJha"
      },
      "outputs": [
        {
          "name": "stdout",
          "output_type": "stream",
          "text": [
            "Error: could not convert string to float: 'confirm'\n"
          ]
        }
      ],
      "source": [
        "main()"
      ]
    },
    {
      "cell_type": "code",
      "execution_count": 6,
      "metadata": {
        "colab": {
          "base_uri": "https://localhost:8080/"
        },
        "id": "biWHjtXzNSBU",
        "outputId": "b2ea2ee0-4de2-4ca8-b303-e99223a01992"
      },
      "outputs": [
        {
          "name": "stdout",
          "output_type": "stream",
          "text": [
            "Error: could not convert string to float: ''\n"
          ]
        }
      ],
      "source": [
        "main()"
      ]
    },
    {
      "cell_type": "code",
      "execution_count": 7,
      "metadata": {
        "id": "g2IjMHdsNhsw"
      },
      "outputs": [
        {
          "name": "stdout",
          "output_type": "stream",
          "text": [
            "Error: could not convert string to float: ''\n"
          ]
        }
      ],
      "source": [
        "main()"
      ]
    },
    {
      "cell_type": "markdown",
      "metadata": {
        "id": "AOseBSL8OfO6"
      },
      "source": [
        "\n",
        "Create a Python program that performs various mathematical operations on a list of numbers.\n",
        "• The Program should:\n",
        "1. Prompt the user to choose an operation (e.g., find the sum, average, maximum, or minimum\n",
        "of the numbers).\n",
        "2. Ask the user to input a list of numbers (separated by spaces).\n",
        "\n",
        "18\n",
        "\n",
        "6CS012 Worksheet - 0 Siman Giri\n",
        "\n",
        "3. Perform the selected operation and display the result.\n",
        "4. Handle potential errors, such as invalid input or empty lists.\n",
        "• Requirements:*italicized text*\n",
        "\n",
        "1. Functions: Define at least one function for each operation (sum, average, maximum, mini-\n",
        "mum).\n",
        "\n",
        "2. Error Handling: Use try-except blocks to handle invalid input (e.g., non-numeric values or\n",
        "empty lists).\n",
        "3. User Input: Prompt the user to select the operation and input the list of numbers.\n",
        "4. Docstrings: Include a docstring in each function to describe its purpose, parameters, and\n",
        "return value."
      ]
    },
    {
      "cell_type": "code",
      "execution_count": 8,
      "metadata": {
        "id": "aSly6-C8NwFc"
      },
      "outputs": [],
      "source": [
        "def calculate_sum(numbers):\n",
        "    \"\"\"\n",
        "    Calculate the sum of a list of numbers.\n",
        "\n",
        "    Parameters:\n",
        "    numbers (list of float): The list of numbers.\n",
        "\n",
        "    Returns:\n",
        "    float: The sum of the numbers.\n",
        "    \"\"\"\n",
        "    return sum(numbers)"
      ]
    },
    {
      "cell_type": "code",
      "execution_count": 9,
      "metadata": {
        "id": "nBuDZlvSO4NG"
      },
      "outputs": [],
      "source": [
        "def calculate_average(numbers):\n",
        "    \"\"\"\n",
        "    Calculate the average of a list of numbers.\n",
        "\n",
        "    Parameters:\n",
        "    numbers (list of float): The list of numbers.\n",
        "\n",
        "    Returns:\n",
        "    float: The average of the numbers.\n",
        "    \"\"\"\n",
        "    return sum(numbers) / len(numbers) if numbers else 0"
      ]
    },
    {
      "cell_type": "code",
      "execution_count": 10,
      "metadata": {
        "id": "zSgDLGGjO6Pp"
      },
      "outputs": [],
      "source": [
        "\n",
        "def find_maximum(numbers):\n",
        "    \"\"\"\n",
        "    Find the maximum value in a list of numbers.\n",
        "\n",
        "    Parameters:\n",
        "    numbers (list of float): The list of numbers.\n",
        "\n",
        "    Returns:\n",
        "    float: The maximum value.\n",
        "    \"\"\"\n",
        "    return max(numbers)"
      ]
    },
    {
      "cell_type": "code",
      "execution_count": 11,
      "metadata": {
        "id": "zrOKrsGIO-Yi"
      },
      "outputs": [],
      "source": [
        "\n",
        "def find_minimum(numbers):\n",
        "    \"\"\"\n",
        "    Find the minimum value in a list of numbers.\n",
        "\n",
        "    Parameters:\n",
        "    numbers (list of float): The list of numbers.\n",
        "\n",
        "    Returns:\n",
        "    float: The minimum value.\n",
        "    \"\"\"\n",
        "    return min(numbers)"
      ]
    },
    {
      "cell_type": "code",
      "execution_count": 12,
      "metadata": {
        "id": "JBEUJ_QDPBI4"
      },
      "outputs": [
        {
          "name": "stdout",
          "output_type": "stream",
          "text": [
            "Error: The list of numbers cannot be empty.\n"
          ]
        }
      ],
      "source": [
        "def main():\n",
        "    try:\n",
        "        operation = input(\"Choose an operation (sum/average/max/min): \").lower()\n",
        "        numbers = list(map(float, input(\"Enter numbers separated by spaces: \").split()))\n",
        "\n",
        "        if not numbers:\n",
        "            raise ValueError(\"The list of numbers cannot be empty.\")\n",
        "\n",
        "        if operation == \"sum\":\n",
        "            result = calculate_sum(numbers)\n",
        "        elif operation == \"average\":\n",
        "            result = calculate_average(numbers)\n",
        "        elif operation == \"max\":\n",
        "            result = find_maximum(numbers)\n",
        "        elif operation == \"min\":\n",
        "            result = find_minimum(numbers)\n",
        "        else:\n",
        "            raise ValueError(\"Invalid operation selected.\")\n",
        "\n",
        "        print(f\"Result: {result:.2f}\")\n",
        "\n",
        "    except ValueError as e:\n",
        "        print(f\"Error: {e}\")\n",
        "    except Exception as e:\n",
        "        print(f\"An unexpected error occurred: {e}\")\n",
        "\n",
        "if __name__ == \"__main__\":\n",
        "    main()"
      ]
    },
    {
      "cell_type": "code",
      "execution_count": 13,
      "metadata": {
        "id": "VUl1rM4dPEpr"
      },
      "outputs": [
        {
          "name": "stdout",
          "output_type": "stream",
          "text": [
            "Error: The list of numbers cannot be empty.\n"
          ]
        }
      ],
      "source": [
        "main()"
      ]
    },
    {
      "cell_type": "code",
      "execution_count": 14,
      "metadata": {
        "id": "kJDeTSKvPJ-w"
      },
      "outputs": [
        {
          "name": "stdout",
          "output_type": "stream",
          "text": [
            "Error: The list of numbers cannot be empty.\n"
          ]
        }
      ],
      "source": [
        "main()\n"
      ]
    },
    {
      "cell_type": "code",
      "execution_count": 15,
      "metadata": {
        "id": "6HlUYev7PNZ7"
      },
      "outputs": [
        {
          "name": "stdout",
          "output_type": "stream",
          "text": [
            "Error: The list of numbers cannot be empty.\n"
          ]
        }
      ],
      "source": [
        "main()"
      ]
    },
    {
      "cell_type": "markdown",
      "metadata": {
        "id": "UyJlLEQ_QfJ3"
      },
      "source": [
        "4.2 Exercise on List Manipulation:\n",
        "1. Extract Every Other Element:\n",
        "Write a Python function that extracts every other element from a list, starting from the first element.\n",
        "• Requirements:\n",
        "– Define a function extract every other(lst) that takes a list lst as input and returns a\n",
        "new list containing every other element from the original list.\n",
        "– Example: For the input [1, 2, 3, 4, 5, 6], the output should be [1, 3, 5].\n",
        "2. Slice a Sublist:\n",
        "Write a Python function that returns a sublist from a given list, starting from a specified index and\n",
        "ending at another specified index.\n",
        "• Requirements:\n",
        "– Define a function get sublist(lst, start, end) that takes a list lst, a starting index\n",
        "start, and an ending index end as input and returns the sublist from start to end (inclusive).\n",
        "– Example: For the input [1, 2, 3, 4, 5, 6] with start=2 and end=4, the output should\n",
        "be [3, 4, 5].\n",
        "\n",
        "3. Reverse a List Using Slicing:\n",
        "Write a Python function that reverses a list using slicing.\n",
        "• Requirements:\n",
        "– Define a function reverse list(lst) that takes a list lst and returns a reversed list using\n",
        "slicing.\n",
        "– Example: For the input [1, 2, 3, 4, 5], the output should be [5, 4, 3, 2, 1].\n",
        "\n",
        "19\n",
        "\n",
        "6CS012 Worksheet - 0 Siman Giri\n",
        "\n",
        "4. Remove the First and Last Elements:\n",
        "Write a Python function that removes the first and last elements of a list and returns the resulting\n",
        "sublist.\n",
        "• Requirements:\n",
        "– Define a function remove first last(lst) that takes a list lst and returns a sublist without\n",
        "the first and last elements using slicing.\n",
        "– Example: For the input [1, 2, 3, 4, 5], the output should be [2, 3, 4].\n",
        "5. Get the First n Elements:\n",
        "Write a Python function that extracts the first n elements from a list.\n",
        "• Requirements:\n",
        "– Define a function get first n(lst, n) that takes a list lst and an integer n as input and\n",
        "returns the first n elements of the list using slicing.\n",
        "– Example: For the input [1, 2, 3, 4, 5] with n=3, the output should be [1, 2, 3].\n",
        "6. Extract Elements from the End:\n",
        "Write a Python function that extracts the last n elements of a list using slicing.\n",
        "• Requirements:\n",
        "– Define a function get last n(lst, n) that takes a list lst and an integer n as input and\n",
        "returns the last n elements of the list.\n",
        "– Example: For the input [1, 2, 3, 4, 5] with n=2, the output should be [4, 5].\n",
        "7. Extract Elements in Reverse Order:\n",
        "Write a Python function that extracts a list of elements in reverse order starting from the second-to-last\n",
        "element and skipping one element in between.\n",
        "• Requirements:\n",
        "– Define a function reverse skip(lst) that takes a list lst and returns a new list containing\n",
        "every second element starting from the second-to-last, moving backward.\n",
        "– Example: For the input [1, 2, 3, 4, 5, 6], the output should be [5, 3, 1]."
      ]
    },
    {
      "cell_type": "code",
      "execution_count": 16,
      "metadata": {
        "id": "eBqof5UlQfjL"
      },
      "outputs": [],
      "source": [
        "def extract_every_other(lst):\n",
        "    \"\"\"\n",
        "    Extract every other element from a list, starting from the first element.\n",
        "\n",
        "    Parameters:\n",
        "    lst (list): The input list.\n",
        "\n",
        "    Returns:\n",
        "    list: A new list containing every other element.\n",
        "    \"\"\"\n",
        "    return lst[::2]"
      ]
    },
    {
      "cell_type": "code",
      "execution_count": 17,
      "metadata": {
        "id": "PXIWx4yjQnZ9"
      },
      "outputs": [],
      "source": [
        "def get_sublist(lst, start, end):\n",
        "    \"\"\"\n",
        "    Get a sublist from start to end (inclusive).\n",
        "\n",
        "    Parameters:\n",
        "    lst (list): The input list.\n",
        "    start (int): Starting index.\n",
        "    end (int): Ending index.\n",
        "\n",
        "    Returns:\n",
        "    list: The sublist from start to end (inclusive).\n",
        "    \"\"\"\n",
        "    return lst[start:end+1]"
      ]
    },
    {
      "cell_type": "code",
      "execution_count": 18,
      "metadata": {
        "id": "GxiQDypQQpBL"
      },
      "outputs": [],
      "source": [
        "def reverse_list(lst):\n",
        "    \"\"\"\n",
        "    Reverse a list using slicing.\n",
        "\n",
        "    Parameters:\n",
        "    lst (list): The input list.\n",
        "\n",
        "    Returns:\n",
        "    list: The reversed list.\n",
        "    \"\"\"\n",
        "    return lst[::-1]"
      ]
    },
    {
      "cell_type": "code",
      "execution_count": 19,
      "metadata": {
        "id": "jPP4RAJ4QqsG"
      },
      "outputs": [],
      "source": [
        "\n",
        "def remove_first_last(lst):\n",
        "    \"\"\"\n",
        "    Remove the first and last elements of a list.\n",
        "\n",
        "    Parameters:\n",
        "    lst (list): The input list.\n",
        "\n",
        "    Returns:\n",
        "    list: The list without the first and last elements.\n",
        "    \"\"\"\n",
        "    return lst[1:-1]"
      ]
    },
    {
      "cell_type": "code",
      "execution_count": 20,
      "metadata": {
        "id": "mrjlAlDMQsYD"
      },
      "outputs": [],
      "source": [
        "def get_first_n(lst, n):\n",
        "    \"\"\"\n",
        "    Get the first n elements of a list.\n",
        "\n",
        "    Parameters:\n",
        "    lst (list): The input list.\n",
        "    n (int): Number of elements to extract.\n",
        "\n",
        "    Returns:\n",
        "    list: The first n elements of the list.\n",
        "    \"\"\"\n",
        "    return lst[:n]"
      ]
    },
    {
      "cell_type": "code",
      "execution_count": 21,
      "metadata": {
        "id": "9fvqhpyeQuRc"
      },
      "outputs": [],
      "source": [
        "def get_last_n(lst, n):\n",
        "    \"\"\"\n",
        "    Get the last n elements of a list.\n",
        "\n",
        "    Parameters:\n",
        "    lst (list): The input list.\n",
        "    n (int): Number of elements to extract.\n",
        "\n",
        "    Returns:\n",
        "    list: The last n elements of the list.\n",
        "    \"\"\"\n",
        "    return lst[-n:]"
      ]
    },
    {
      "cell_type": "code",
      "execution_count": 22,
      "metadata": {
        "id": "fdjS3_oQQwUa"
      },
      "outputs": [],
      "source": [
        "def reverse_skip(lst):\n",
        "    \"\"\"\n",
        "    Extract elements in reverse order, starting from the second-to-last element, skipping one element.\n",
        "\n",
        "    Parameters:\n",
        "    lst (list): The input list.\n",
        "\n",
        "    Returns:\n",
        "    list: The new list with elements in reverse order, skipping one element.\n",
        "    \"\"\"\n",
        "    return lst[-2::-2]"
      ]
    },
    {
      "cell_type": "code",
      "execution_count": 23,
      "metadata": {
        "id": "l1KnkDR0QyBv"
      },
      "outputs": [
        {
          "name": "stdout",
          "output_type": "stream",
          "text": [
            "Original list: [1, 2, 3, 4, 5, 6]\n",
            "Every other element: [1, 3, 5]\n",
            "Sublist from index 2 to 4: [3, 4, 5]\n",
            "Reversed list: [6, 5, 4, 3, 2, 1]\n",
            "List without first and last elements: [2, 3, 4, 5]\n",
            "First 3 elements: [1, 2, 3]\n",
            "Last 2 elements: [5, 6]\n",
            "Reverse order, skipping one element: [5, 3, 1]\n"
          ]
        }
      ],
      "source": [
        "def main():\n",
        "    # Example usage of the functions\n",
        "    lst = [1, 2, 3, 4, 5, 6]\n",
        "\n",
        "    print(\"Original list:\", lst)\n",
        "    print(\"Every other element:\", extract_every_other(lst))\n",
        "    print(\"Sublist from index 2 to 4:\", get_sublist(lst, 2, 4))\n",
        "    print(\"Reversed list:\", reverse_list(lst))\n",
        "    print(\"List without first and last elements:\", remove_first_last(lst))\n",
        "    print(\"First 3 elements:\", get_first_n(lst, 3))\n",
        "    print(\"Last 2 elements:\", get_last_n(lst, 2))\n",
        "    print(\"Reverse order, skipping one element:\", reverse_skip(lst))\n",
        "\n",
        "if __name__ == \"__main__\":\n",
        "    main()"
      ]
    },
    {
      "cell_type": "markdown",
      "metadata": {
        "id": "lt2XK91NRIAE"
      },
      "source": [
        "4.3 Exercise on Nested List:\n",
        "1. Flatten a Nested List:\n",
        "Write a Python function that takes a nested list and flattens it into a single list, where all the elements\n",
        "are in a single dimension.\n",
        "• Requirements:\n",
        "– Define a function flatten(lst) that takes a nested list lst and returns a flattened version\n",
        "of the list.\n",
        "– Example: For the input [[1, 2], [3, 4], [5]], the output should be [1, 2, 3, 4, 5].\n",
        "2. Accessing Nested List Elements:\n",
        "Write a Python function that extracts a specific element from a nested list given its indices.\n",
        "• Requirements:\n",
        "– Define a function access nested element(lst, indices) that takes a nested list lst and\n",
        "a list of indices indices, and returns the element at that position.\n",
        "– Example: For the input lst = [[1, 2, 3], [4, 5, 6], [7, 8, 9]] with indices = [1,\n",
        "2], the output should be 6.\n",
        "3. Sum of All Elements in a Nested List:\n",
        "Write a Python function that calculates the sum of all the numbers in a nested list (regardless of depth).\n",
        "• Requirements:\n",
        "– Define a function sum nested(lst) that takes a nested list lst and returns the sum of all\n",
        "the elements.\n",
        "– Example: For the input [[1, 2], [3, [4, 5]], 6], the output should be 21.\n",
        "4. Remove Specific Element from a Nested List:\n",
        "Write a Python function that removes all occurrences of a specific element from a nested list.\n",
        "• Requirements:\n",
        "– Define a function remove element(lst, elem) that removes elem from lst and returns the\n",
        "modified list.\n",
        "– Example: For the input lst = [[1, 2], [3, 2], [4, 5]] and elem = 2, the output should\n",
        "be [[1], [3], [4, 5]].\n",
        "\n",
        "5. Find the Maximum Element in a Nested List:\n",
        "Write a Python function that finds the maximum element in a nested list (regardless of depth).\n",
        "• Requirements:\n",
        "– Define a function find max(lst) that takes a nested list lst and returns the maximum\n",
        "element.\n",
        "– Example: For the input [[1, 2], [3, [4, 5]], 6], the output should be 6.\n",
        "\n",
        "21\n",
        "\n",
        "6CS012 Worksheet - 0 Siman Giri\n",
        "\n",
        "6. Count Occurrences of an Element in a Nested List:\n",
        "Write a Python function that counts how many times a specific element appears in a nested list.\n",
        "• Requirements:\n",
        "– Define a function count occurrences(lst, elem) that counts the occurrences of elem in\n",
        "the nested list lst.\n",
        "– Example: For the input lst = [[1, 2], [2, 3], [2, 4]] and elem = 2, the output should\n",
        "be 3.\n",
        "\n",
        "7. Flatten a List of Lists of Lists:\n",
        "Write a Python function that flattens a list of lists of lists into a single list, regardless of the depth.\n",
        "• Requirements:\n",
        "– Define a function deep flatten(lst) that takes a deeply nested list lst and returns a single\n",
        "flattened list.\n",
        "– Example: For the input [[[1, 2], [3, 4]], [[5, 6], [7, 8]]], the output should be\n",
        "[1, 2, 3, 4, 5, 6, 7, 8].\n",
        "\n",
        "8. Nested List Average:\n",
        "Write a Python function that calculates the average of all elements in a nested list.\n",
        "• Requirements:\n",
        "– Define a function average nested(lst) that takes a nested list lst and returns the average\n",
        "of all the elements.\n",
        "– Example: For the input [[1, 2], [3, 4], [5, 6]], the output should be 3.5.\n"
      ]
    },
    {
      "cell_type": "code",
      "execution_count": 24,
      "metadata": {
        "id": "5RPVB5rXQzxz"
      },
      "outputs": [],
      "source": [
        "def flatten(lst):\n",
        "    \"\"\"\n",
        "    Flatten a nested list into a single list.\n",
        "    \"\"\"\n",
        "    flat_list = []\n",
        "    for item in lst:\n",
        "        if isinstance(item, list):\n",
        "            flat_list.extend(flatten(item))\n",
        "        else:\n",
        "            flat_list.append(item)\n",
        "    return flat_list"
      ]
    },
    {
      "cell_type": "code",
      "execution_count": 25,
      "metadata": {
        "id": "40XosaoCROIz"
      },
      "outputs": [],
      "source": [
        "def access_nested_element(lst, indices):\n",
        "    \"\"\"\n",
        "    Access a specific element in a nested list by its indices.\n",
        "    \"\"\"\n",
        "    element = lst\n",
        "    try:\n",
        "        for index in indices:\n",
        "            element = element[index]\n",
        "        return element\n",
        "    except (IndexError, TypeError):\n",
        "        return \"Invalid indices\""
      ]
    },
    {
      "cell_type": "code",
      "execution_count": 26,
      "metadata": {
        "id": "-e3a_d08RPvt"
      },
      "outputs": [],
      "source": [
        "def sum_nested(lst):\n",
        "    \"\"\"\n",
        "    Calculate the sum of all elements in a nested list.\n",
        "    \"\"\"\n",
        "    return sum(flatten(lst))"
      ]
    },
    {
      "cell_type": "code",
      "execution_count": 27,
      "metadata": {
        "id": "b2yCqfKhRRX5"
      },
      "outputs": [],
      "source": [
        "def remove_element(lst, elem):\n",
        "    \"\"\"\n",
        "    Remove all occurrences of a specific element in a nested list.\n",
        "    \"\"\"\n",
        "    result = []\n",
        "    for item in lst:\n",
        "        if isinstance(item, list):\n",
        "            result.append(remove_element(item, elem))\n",
        "        elif item != elem:\n",
        "            result.append(item)\n",
        "    return result"
      ]
    },
    {
      "cell_type": "code",
      "execution_count": 28,
      "metadata": {
        "id": "z0Rsf1brRS_I"
      },
      "outputs": [],
      "source": [
        "def find_max(lst):\n",
        "    \"\"\"\n",
        "    Find the maximum element in a nested list.\n",
        "    \"\"\"\n",
        "    return max(flatten(lst))\n"
      ]
    },
    {
      "cell_type": "code",
      "execution_count": 29,
      "metadata": {
        "id": "s0QMTmW8RUmf"
      },
      "outputs": [],
      "source": [
        "def count_occurrences(lst, elem):\n",
        "    \"\"\"\n",
        "    Count the occurrences of an element in a nested list.\n",
        "    \"\"\"\n",
        "    return flatten(lst).count(elem)"
      ]
    },
    {
      "cell_type": "code",
      "execution_count": 30,
      "metadata": {
        "id": "GSpEVi5eRWI6"
      },
      "outputs": [],
      "source": [
        "def deep_flatten(lst):\n",
        "    \"\"\"\n",
        "    Flatten a list of lists of lists into a single list.\n",
        "    \"\"\"\n",
        "    return flatten(lst)"
      ]
    },
    {
      "cell_type": "code",
      "execution_count": 31,
      "metadata": {
        "id": "UZKnTzDhRX5t"
      },
      "outputs": [],
      "source": [
        "def average_nested(lst):\n",
        "    \"\"\"\n",
        "    Calculate the average of all elements in a nested list.\n",
        "    \"\"\"\n",
        "    flat_list = flatten(lst)\n",
        "    return sum(flat_list) / len(flat_list) if flat_list else 0"
      ]
    },
    {
      "cell_type": "code",
      "execution_count": 32,
      "metadata": {
        "id": "fjUoC7YbRZie"
      },
      "outputs": [
        {
          "name": "stdout",
          "output_type": "stream",
          "text": [
            "Flattened list: [1, 2, 3, 4, 5]\n",
            "Access element at [1, 2]: 6\n",
            "Sum of all elements: 21\n",
            "List after removing 2: [[1], [3, 4], [5]]\n",
            "Maximum element: 6\n",
            "Occurrences of 2: 1\n",
            "Deep flattened list: [1, 2, 3, 4, 5, 6, 7, 8]\n",
            "Average of elements: 3.5\n"
          ]
        }
      ],
      "source": [
        "\n",
        "def main():\n",
        "    # Example usage\n",
        "    lst1 = [[1, 2], [3, 4], [5]]\n",
        "    lst2 = [[1, 2, 3], [4, 5, 6], [7, 8, 9]]\n",
        "    lst3 = [[1, 2], [3, [4, 5]], 6]\n",
        "    lst4 = [[[1, 2], [3, 4]], [[5, 6], [7, 8]]]\n",
        "\n",
        "    print(\"Flattened list:\", flatten(lst1))\n",
        "    print(\"Access element at [1, 2]:\", access_nested_element(lst2, [1, 2]))\n",
        "    print(\"Sum of all elements:\", sum_nested(lst3))\n",
        "    print(\"List after removing 2:\", remove_element(lst1, 2))\n",
        "    print(\"Maximum element:\", find_max(lst3))\n",
        "    print(\"Occurrences of 2:\", count_occurrences(lst2, 2))\n",
        "    print(\"Deep flattened list:\", deep_flatten(lst4))\n",
        "    print(\"Average of elements:\", average_nested([[1, 2], [3, 4], [5, 6]]))\n",
        "\n",
        "if __name__ == \"__main__\":\n",
        "    main()"
      ]
    },
    {
      "cell_type": "markdown",
      "metadata": {
        "id": "Y7pIhNqjRrvE"
      },
      "source": [
        "10 To - Do - NumPy\n",
        "Please complete all the problems listed below:\n",
        "10.1 Basic Vector and Matrix Operation with Numpy.\n",
        "Problem - 1: Array Creation:\n",
        "Complete the following Tasks:\n",
        "1. Initialize an empty array with size 2X2.\n",
        "2. Initialize an all one array with size 4X2.\n",
        "3. Return a new array of given shape and type, filled with fill value.{Hint: np.full}\n",
        "4. Return a new array of zeros with same shape and type as a given array.{Hint: np.zeros like}\n",
        "5. Return a new array of ones with same shape and type as a given array.{Hint: np.ones like}\n",
        "6. For an existing list new_list = [1,2,3,4] convert to an numpy array.{Hint: np.array()}\n",
        "Problem - 2: Array Manipulation: Numerical Ranges and Array indexing:\n",
        "Complete the following tasks:\n",
        "1. Create an array with values ranging from 10 to 49. {Hint:np.arrange()}.\n",
        "2. Create a 3X3 matrix with values ranging from 0 to 8.\n",
        "{Hint:look for np.reshape()}\n",
        "3. Create a 3X3 identity matrix.{Hint:np.eye()}\n",
        "4. Create a random array of size 30 and find the mean of the array.\n",
        "{Hint:check for np.random.random() and array.mean() function}\n",
        "5. Create a 10X10 array with random values and find the minimum and maximum values.\n",
        "6. Create a zero array of size 10 and replace 5th element with 1.\n",
        "7. Reverse an array arr = [1,2,0,0,4,0].\n",
        "8. Create a 2d array with 1 on border and 0 inside.\n",
        "9. Create a 8X8 matrix and fill it with a checkerboard pattern.\n",
        "\n",
        "46\n",
        "\n",
        "6CS012 Worksheet - 0 Siman Giri\n",
        "\n",
        "Problem - 3: Array Operations:\n",
        "For the following arrays:\n",
        "x = np.array([[1,2],[3,5]]) and y = np.array([[5,6],[7,8]]);\n",
        "v = np.array([9,10]) and w = np.array([11,12]);\n",
        "Complete all the task using numpy:\n",
        "1. Add the two array.\n",
        "2. Subtract the two array.\n",
        "3. Multiply the array with any integers of your choice.\n",
        "4. Find the square of each element of the array.\n",
        "5. Find the dot product between: v(and)w ; x(and)v ; x(and)y.\n",
        "6. Concatenate x(and)y along row and Concatenate v(and)w along column.\n",
        "{Hint:try np.concatenate() or np.vstack() functions.\n",
        "7. Concatenate x(and)v; if you get an error, observe and explain why did you get the error?\n",
        "Problem - 4: Matrix Operations:\n",
        "• For the following arrays:\n",
        "A = np.array([[3,4],[7,8]]) and B = np.array([[5,3],[2,1]]);\n",
        "Prove following with Numpy:\n",
        "1. Prove A.A−1 = I.\n",
        "2. Prove AB ̸= BA.\n",
        "3. Prove (AB)\n",
        "\n",
        "T = BTAT\n",
        ".\n",
        "\n",
        "• Solve the following system of Linear equation using Inverse Methods.\n",
        "\n",
        "2x − 3y + z = −1\n",
        "x − y + 2z = −3\n",
        "3x + y − z = 9\n",
        "\n",
        "{Hint: First use Numpy array to represent the equation in Matrix form. Then Solve for: AX = B}\n",
        "\n",
        "• Now: solve the above equation using np.linalg.inv function.{Explore more about ”linalg” func-\n",
        "tion of Numpy}"
      ]
    },
    {
      "cell_type": "code",
      "execution_count": 33,
      "metadata": {
        "id": "1O0txHseRqcL"
      },
      "outputs": [],
      "source": [
        "import numpy as np"
      ]
    },
    {
      "cell_type": "code",
      "execution_count": 34,
      "metadata": {
        "id": "3cRIRkmQR5QT"
      },
      "outputs": [],
      "source": [
        "def array_creation():\n",
        "    print(\"1. Empty 2x2 array:\")\n",
        "    empty_array = np.empty((2, 2))\n",
        "    print(empty_array)\n",
        "\n",
        "    print(\"\\n2. All ones array 4x2:\")\n",
        "    ones_array = np.ones((4, 2))\n",
        "    print(ones_array)\n",
        "\n",
        "    print(\"\\n3. Array filled with 7 (shape 3x3):\")\n",
        "    filled_array = np.full((3, 3), 7)\n",
        "    print(filled_array)\n",
        "\n",
        "    print(\"\\n4. Array of zeros like another array:\")\n",
        "    example_array = np.array([[1, 2], [3, 4]])\n",
        "    zeros_like_array = np.zeros_like(example_array)\n",
        "    print(zeros_like_array)\n",
        "\n",
        "    print(\"\\n5. Array of ones like another array:\")\n",
        "    ones_like_array = np.ones_like(example_array)\n",
        "    print(ones_like_array)\n",
        "\n",
        "    print(\"\\n6. Convert list to NumPy array:\")\n",
        "    new_list = [1, 2, 3, 4]\n",
        "    array_from_list = np.array(new_list)\n",
        "    print(array_from_list)"
      ]
    },
    {
      "cell_type": "code",
      "execution_count": 35,
      "metadata": {
        "id": "L1tAx_D7R7S_"
      },
      "outputs": [],
      "source": [
        "def array_manipulation():\n",
        "    print(\"\\n1. Array with values from 10 to 49:\")\n",
        "    arr = np.arange(10, 50)\n",
        "    print(arr)\n",
        "\n",
        "    print(\"\\n2. 3x3 matrix with values from 0 to 8:\")\n",
        "    matrix = np.arange(9).reshape((3, 3))\n",
        "    print(matrix)\n",
        "\n",
        "    print(\"\\n3. 3x3 Identity matrix:\")\n",
        "    identity_matrix = np.eye(3)\n",
        "    print(identity_matrix)\n",
        "\n",
        "    print(\"\\n4. Random array of size 30, mean value:\")\n",
        "    random_array = np.random.random(30)\n",
        "    print(random_array)\n",
        "    print(\"Mean:\", random_array.mean())\n",
        "\n",
        "    print(\"\\n5. 10x10 random array, min and max values:\")\n",
        "    random_matrix = np.random.random((10, 10))\n",
        "    print(random_matrix)\n",
        "    print(\"Min:\", random_matrix.min(), \"Max:\", random_matrix.max())\n",
        "\n",
        "    print(\"\\n6. Zero array with 5th element replaced by 1:\")\n",
        "    zero_array = np.zeros(10)\n",
        "    zero_array[4] = 1\n",
        "    print(zero_array)\n",
        "\n",
        "    print(\"\\n7. Reverse an array:\")\n",
        "    arr = np.array([1, 2, 0, 0, 4, 0])\n",
        "    print(arr[::-1])\n",
        "\n",
        "    print(\"\\n8. 2D array with border 1 and inside 0:\")\n",
        "    border_array = np.ones((5, 5))\n",
        "    border_array[1:-1, 1:-1] = 0\n",
        "    print(border_array)\n",
        "\n",
        "    print(\"\\n9. 8x8 checkerboard pattern:\")\n",
        "    checkerboard = np.zeros((8, 8))\n",
        "    checkerboard[1::2, ::2] = 1\n",
        "    checkerboard[::2, 1::2] = 1\n",
        "    print(checkerboard)"
      ]
    },
    {
      "cell_type": "code",
      "execution_count": 36,
      "metadata": {
        "id": "BoiqTmE1SA1a"
      },
      "outputs": [],
      "source": [
        "# Problem 3: Array Operations\n",
        "def array_operations():\n",
        "    x = np.array([[1, 2], [3, 5]])\n",
        "    y = np.array([[5, 6], [7, 8]])\n",
        "    v = np.array([9, 10])\n",
        "    w = np.array([11, 12])\n",
        "\n",
        "    print(\"\\n1. Add two arrays:\")\n",
        "    print(x + y)\n",
        "\n",
        "    print(\"\\n2. Subtract two arrays:\")\n",
        "    print(x - y)\n",
        "\n",
        "    print(\"\\n3. Multiply array by 2:\")\n",
        "    print(x * 2)\n",
        "\n",
        "    print(\"\\n4. Square of each element:\")\n",
        "    print(np.square(x))\n",
        "\n",
        "    print(\"\\n5. Dot products:\")\n",
        "    print(\"v · w:\", np.dot(v, w))\n",
        "    print(\"x · v:\", np.dot(x, v))\n",
        "    print(\"x · y:\\n\", np.dot(x, y))\n",
        "\n",
        "    print(\"\\n6. Concatenate arrays:\")\n",
        "    print(\"Concatenate x and y along rows:\")\n",
        "    print(np.concatenate((x, y), axis=0))\n",
        "    print(\"Concatenate v and w along columns:\")\n",
        "    print(np.vstack((v, w)))\n",
        "\n",
        "    print(\"\\n7. Try concatenating x and v (will fail):\")\n",
        "    try:\n",
        "        print(np.concatenate((x, v), axis=0))\n",
        "    except ValueError as e:\n",
        "        print(\"Error:\", e)\n",
        "        print(\"Explanation: The shapes don't match — x is 2D, and v is 1D.\")"
      ]
    },
    {
      "cell_type": "code",
      "execution_count": 37,
      "metadata": {
        "id": "8tEs3c2DSDgl"
      },
      "outputs": [],
      "source": [
        "# Problem 4: Matrix Operations\n",
        "def matrix_operations():\n",
        "    A = np.array([[3, 4], [7, 8]])\n",
        "    B = np.array([[5, 3], [2, 1]])\n",
        "\n",
        "    print(\"\\n1. Prove A · A^-1 = I:\")\n",
        "    A_inv = np.linalg.inv(A)\n",
        "    identity = np.dot(A, A_inv)\n",
        "    print(np.round(identity, 2))\n",
        "\n",
        "    print(\"\\n2. Prove AB ≠ BA:\")\n",
        "    AB = np.dot(A, B)\n",
        "    BA = np.dot(B, A)\n",
        "    print(\"AB:\\n\", AB)\n",
        "    print(\"BA:\\n\", BA)\n",
        "\n",
        "    print(\"\\n3. Prove (AB)^T = B^T · A^T:\")\n",
        "    AB_T = (AB).T\n",
        "    BT_AT = np.dot(B.T, A.T)\n",
        "    print(\"Transpose of AB:\\n\", AB_T)\n",
        "    print(\"B^T · A^T:\\n\", BT_AT)\n",
        "\n",
        "    print(\"\\n4. Solve the system of equations:\")\n",
        "    # System of equations in matrix form:\n",
        "    # 2x - 3y + z = -1\n",
        "    # x - y + 2z = -3\n",
        "    # 3x + y - z = 9\n",
        "\n",
        "    A = np.array([[2, -3, 1], [1, -1, 2], [3, 1, -1]])\n",
        "    B = np.array([-1, -3, 9])\n",
        "\n",
        "    solution = np.linalg.solve(A, B)\n",
        "    print(\"Solution for x, y, z:\", solution)"
      ]
    },
    {
      "cell_type": "code",
      "execution_count": 38,
      "metadata": {
        "id": "MBLE-oziSFrL"
      },
      "outputs": [
        {
          "name": "stdout",
          "output_type": "stream",
          "text": [
            "1. Empty 2x2 array:\n",
            "[[0. 0.]\n",
            " [0. 0.]]\n",
            "\n",
            "2. All ones array 4x2:\n",
            "[[1. 1.]\n",
            " [1. 1.]\n",
            " [1. 1.]\n",
            " [1. 1.]]\n",
            "\n",
            "3. Array filled with 7 (shape 3x3):\n",
            "[[7 7 7]\n",
            " [7 7 7]\n",
            " [7 7 7]]\n",
            "\n",
            "4. Array of zeros like another array:\n",
            "[[0 0]\n",
            " [0 0]]\n",
            "\n",
            "5. Array of ones like another array:\n",
            "[[1 1]\n",
            " [1 1]]\n",
            "\n",
            "6. Convert list to NumPy array:\n",
            "[1 2 3 4]\n",
            "\n",
            "1. Array with values from 10 to 49:\n",
            "[10 11 12 13 14 15 16 17 18 19 20 21 22 23 24 25 26 27 28 29 30 31 32 33\n",
            " 34 35 36 37 38 39 40 41 42 43 44 45 46 47 48 49]\n",
            "\n",
            "2. 3x3 matrix with values from 0 to 8:\n",
            "[[0 1 2]\n",
            " [3 4 5]\n",
            " [6 7 8]]\n",
            "\n",
            "3. 3x3 Identity matrix:\n",
            "[[1. 0. 0.]\n",
            " [0. 1. 0.]\n",
            " [0. 0. 1.]]\n",
            "\n",
            "4. Random array of size 30, mean value:\n",
            "[0.94660952 0.03633006 0.06057054 0.85791505 0.08432903 0.79725657\n",
            " 0.65090035 0.83712254 0.54488873 0.04552287 0.43012673 0.63619394\n",
            " 0.53087781 0.23625593 0.05197623 0.10357878 0.31416462 0.727952\n",
            " 0.59860738 0.64875408 0.37369959 0.73247054 0.32123179 0.37630482\n",
            " 0.99283736 0.92159533 0.87238739 0.03392823 0.13546654 0.58410653]\n",
            "Mean: 0.4827986960798604\n",
            "\n",
            "5. 10x10 random array, min and max values:\n",
            "[[0.99200793 0.79377795 0.9970879  0.02377794 0.49716287 0.88365019\n",
            "  0.39017136 0.012036   0.65054726 0.73688399]\n",
            " [0.49514436 0.48545442 0.58276372 0.70528857 0.56298189 0.82343501\n",
            "  0.14644755 0.6777596  0.72731451 0.26617019]\n",
            " [0.63100461 0.65797878 0.68830283 0.21945894 0.25938812 0.65743699\n",
            "  0.13304181 0.09501742 0.68050329 0.84339206]\n",
            " [0.36287542 0.05153501 0.28941518 0.09222347 0.9741666  0.2944476\n",
            "  0.68733122 0.81566434 0.72627676 0.26114718]\n",
            " [0.83082982 0.74944557 0.61993674 0.41151174 0.95030954 0.96299609\n",
            "  0.21846578 0.08114114 0.11191677 0.44773966]\n",
            " [0.60266578 0.21264529 0.4489681  0.4342042  0.50487041 0.66671003\n",
            "  0.88999578 0.83718352 0.85966599 0.79422066]\n",
            " [0.6394416  0.03247661 0.83593734 0.12870143 0.61720165 0.63349208\n",
            "  0.48368198 0.63575301 0.28052334 0.64804096]\n",
            " [0.75156289 0.82170221 0.5345119  0.40157285 0.36192975 0.23584695\n",
            "  0.76236112 0.27454861 0.84985544 0.97177781]\n",
            " [0.9576447  0.29948008 0.25257656 0.69445998 0.28958666 0.79773647\n",
            "  0.54131194 0.27623128 0.37799594 0.57793909]\n",
            " [0.88380716 0.10695063 0.05013532 0.34923212 0.35787075 0.52160816\n",
            "  0.60300728 0.62904797 0.44472166 0.77007312]]\n",
            "Min: 0.012035996580908592 Max: 0.997087897994099\n",
            "\n",
            "6. Zero array with 5th element replaced by 1:\n",
            "[0. 0. 0. 0. 1. 0. 0. 0. 0. 0.]\n",
            "\n",
            "7. Reverse an array:\n",
            "[0 4 0 0 2 1]\n",
            "\n",
            "8. 2D array with border 1 and inside 0:\n",
            "[[1. 1. 1. 1. 1.]\n",
            " [1. 0. 0. 0. 1.]\n",
            " [1. 0. 0. 0. 1.]\n",
            " [1. 0. 0. 0. 1.]\n",
            " [1. 1. 1. 1. 1.]]\n",
            "\n",
            "9. 8x8 checkerboard pattern:\n",
            "[[0. 1. 0. 1. 0. 1. 0. 1.]\n",
            " [1. 0. 1. 0. 1. 0. 1. 0.]\n",
            " [0. 1. 0. 1. 0. 1. 0. 1.]\n",
            " [1. 0. 1. 0. 1. 0. 1. 0.]\n",
            " [0. 1. 0. 1. 0. 1. 0. 1.]\n",
            " [1. 0. 1. 0. 1. 0. 1. 0.]\n",
            " [0. 1. 0. 1. 0. 1. 0. 1.]\n",
            " [1. 0. 1. 0. 1. 0. 1. 0.]]\n",
            "\n",
            "1. Add two arrays:\n",
            "[[ 6  8]\n",
            " [10 13]]\n",
            "\n",
            "2. Subtract two arrays:\n",
            "[[-4 -4]\n",
            " [-4 -3]]\n",
            "\n",
            "3. Multiply array by 2:\n",
            "[[ 2  4]\n",
            " [ 6 10]]\n",
            "\n",
            "4. Square of each element:\n",
            "[[ 1  4]\n",
            " [ 9 25]]\n",
            "\n",
            "5. Dot products:\n",
            "v · w: 219\n",
            "x · v: [29 77]\n",
            "x · y:\n",
            " [[19 22]\n",
            " [50 58]]\n",
            "\n",
            "6. Concatenate arrays:\n",
            "Concatenate x and y along rows:\n",
            "[[1 2]\n",
            " [3 5]\n",
            " [5 6]\n",
            " [7 8]]\n",
            "Concatenate v and w along columns:\n",
            "[[ 9 10]\n",
            " [11 12]]\n",
            "\n",
            "7. Try concatenating x and v (will fail):\n",
            "Error: all the input arrays must have same number of dimensions, but the array at index 0 has 2 dimension(s) and the array at index 1 has 1 dimension(s)\n",
            "Explanation: The shapes don't match — x is 2D, and v is 1D.\n",
            "\n",
            "1. Prove A · A^-1 = I:\n",
            "[[1. 0.]\n",
            " [0. 1.]]\n",
            "\n",
            "2. Prove AB ≠ BA:\n",
            "AB:\n",
            " [[23 13]\n",
            " [51 29]]\n",
            "BA:\n",
            " [[36 44]\n",
            " [13 16]]\n",
            "\n",
            "3. Prove (AB)^T = B^T · A^T:\n",
            "Transpose of AB:\n",
            " [[23 51]\n",
            " [13 29]]\n",
            "B^T · A^T:\n",
            " [[23 51]\n",
            " [13 29]]\n",
            "\n",
            "4. Solve the system of equations:\n",
            "Solution for x, y, z: [ 2.  1. -2.]\n"
          ]
        }
      ],
      "source": [
        "def main():\n",
        "    array_creation()\n",
        "    array_manipulation()\n",
        "    array_operations()\n",
        "    matrix_operations()\n",
        "\n",
        "if __name__ == \"__main__\":\n",
        "    main()"
      ]
    },
    {
      "cell_type": "markdown",
      "metadata": {
        "id": "Y2RQ5gFTSOeE"
      },
      "source": [
        "10.2 Experiment: How Fast is Numpy?\n",
        "In this exercise, you will compare the performance and implementation of operations using plain Python\n",
        "lists (arrays) and NumPy arrays. Follow the instructions:\n",
        "1. Element-wise Addition:\n",
        "• Using Python Lists, perform element-wise addition of two lists of size 1, 000, 000. Measure\n",
        "and Print the time taken for this operation.\n",
        "• Using Numpy Arrays, Repeat the calculation and measure and print the time taken for\n",
        "this operation.\n",
        "2. Element-wise Multiplication\n",
        "• Using Python Lists, perform element-wise multiplication of two lists of size 1, 000, 000.\n",
        "Measure and Print the time taken for this operation.\n",
        "• Using Numpy Arrays, Repeat the calculation and measure and print the time taken for\n",
        "this operation.\n",
        "3. Dot Product\n",
        "• Using Python Lists, compute the dot product of two lists of size 1, 000, 000. Measure and\n",
        "Print the time taken for this operation.\n",
        "• Using Numpy Arrays, Repeat the calculation and measure and print the time taken for\n",
        "this operation.\n",
        "4. Matrix Multiplication\n",
        "\n",
        "• Using Python lists, perform matrix multiplication of two matrices of size 1000x1000. Mea-\n",
        "sure and print the time taken for this operation.\n",
        "\n",
        "• Using NumPy arrays, perform matrix multiplication of two matrices of size 1000x1000.\n",
        "Measure and print the time taken for this operation."
      ]
    },
    {
      "cell_type": "code",
      "execution_count": 39,
      "metadata": {
        "id": "VlSiGer4SHi0"
      },
      "outputs": [],
      "source": [
        "import numpy as np\n",
        "import time\n",
        "\n",
        "# 1. Element-wise Addition\n",
        "def element_wise_addition():\n",
        "    size = 1_000_000\n",
        "    list1 = list(range(size))\n",
        "    list2 = list(range(size))\n",
        "    array1 = np.arange(size)\n",
        "    array2 = np.arange(size)\n",
        "\n",
        "    # Using Python lists\n",
        "    start_time = time.time()\n",
        "    result_list = [x + y for x, y in zip(list1, list2)]\n",
        "    end_time = time.time()\n",
        "    print(f\"Python list addition time: {end_time - start_time:.5f} seconds\")\n",
        "\n",
        "    # Using NumPy arrays\n",
        "    start_time = time.time()\n",
        "    result_array = array1 + array2\n",
        "    end_time = time.time()\n",
        "    print(f\"NumPy array addition time: {end_time - start_time:.5f} seconds\\n\")"
      ]
    },
    {
      "cell_type": "code",
      "execution_count": 40,
      "metadata": {
        "id": "0jN1dfSgSY0R"
      },
      "outputs": [],
      "source": [
        "# 2. Element-wise Multiplication\n",
        "def element_wise_multiplication():\n",
        "    size = 1_000_000\n",
        "    list1 = list(range(size))\n",
        "    list2 = list(range(size))\n",
        "    array1 = np.arange(size)\n",
        "    array2 = np.arange(size)\n",
        "\n",
        "    # Using Python lists\n",
        "    start_time = time.time()\n",
        "    result_list = [x * y for x, y in zip(list1, list2)]\n",
        "    end_time = time.time()\n",
        "    print(f\"Python list multiplication time: {end_time - start_time:.5f} seconds\")\n",
        "\n",
        "    # Using NumPy arrays\n",
        "    start_time = time.time()\n",
        "    result_array = array1 * array2\n",
        "    end_time = time.time()\n",
        "    print(f\"NumPy array multiplication time: {end_time - start_time:.5f} seconds\\n\")"
      ]
    },
    {
      "cell_type": "code",
      "execution_count": 41,
      "metadata": {
        "id": "hOxo2rM4SbJ4"
      },
      "outputs": [],
      "source": [
        "# 3. Dot Product\n",
        "def dot_product():\n",
        "    size = 1_000_000\n",
        "    list1 = list(range(size))\n",
        "    list2 = list(range(size))\n",
        "    array1 = np.arange(size)\n",
        "    array2 = np.arange(size)\n",
        "\n",
        "    # Using Python lists\n",
        "    start_time = time.time()\n",
        "    dot_product_list = sum(x * y for x, y in zip(list1, list2))\n",
        "    end_time = time.time()\n",
        "    print(f\"Python list dot product time: {end_time - start_time:.5f} seconds\")\n",
        "\n",
        "    # Using NumPy arrays\n",
        "    start_time = time.time()\n",
        "    dot_product_array = np.dot(array1, array2)\n",
        "    end_time = time.time()\n",
        "    print(f\"NumPy array dot product time: {end_time - start_time:.5f} seconds\\n\")"
      ]
    },
    {
      "cell_type": "code",
      "execution_count": 42,
      "metadata": {
        "id": "rUaXEt30SdVn"
      },
      "outputs": [],
      "source": [
        "# 4. Matrix Multiplication\n",
        "def matrix_multiplication():\n",
        "    size = 1000\n",
        "    list_matrix1 = [[i + j for j in range(size)] for i in range(size)]\n",
        "    list_matrix2 = [[i * j for j in range(size)] for i in range(size)]\n",
        "    array_matrix1 = np.array(list_matrix1)\n",
        "    array_matrix2 = np.array(list_matrix2)\n",
        "\n",
        "    # Using Python lists\n",
        "    start_time = time.time()\n",
        "    result_matrix = [[sum(a * b for a, b in zip(row, col)) for col in zip(*list_matrix2)] for row in list_matrix1]\n",
        "    end_time = time.time()\n",
        "    print(f\"Python list matrix multiplication time: {end_time - start_time:.5f} seconds\")\n",
        "\n",
        "    # Using NumPy arrays\n",
        "    start_time = time.time()\n",
        "    result_array = np.dot(array_matrix1, array_matrix2)\n",
        "    end_time = time.time()\n",
        "    print(f\"NumPy array matrix multiplication time: {end_time - start_time:.5f} seconds\\n\")"
      ]
    },
    {
      "cell_type": "code",
      "execution_count": 43,
      "metadata": {
        "id": "BGXUov3zSfaZ"
      },
      "outputs": [
        {
          "name": "stdout",
          "output_type": "stream",
          "text": [
            "🔵 Experiment: How Fast is NumPy? 🔵\n",
            "\n",
            "Python list addition time: 0.09336 seconds\n",
            "NumPy array addition time: 0.00338 seconds\n",
            "\n",
            "Python list multiplication time: 0.07048 seconds\n",
            "NumPy array multiplication time: 0.00202 seconds\n",
            "\n",
            "Python list dot product time: 0.07435 seconds\n",
            "NumPy array dot product time: 0.00134 seconds\n",
            "\n",
            "Python list matrix multiplication time: 80.38773 seconds\n",
            "NumPy array matrix multiplication time: 0.81734 seconds\n",
            "\n"
          ]
        }
      ],
      "source": [
        "def main():\n",
        "    print(\"🔵 Experiment: How Fast is NumPy? 🔵\\n\")\n",
        "    element_wise_addition()\n",
        "    element_wise_multiplication()\n",
        "    dot_product()\n",
        "    matrix_multiplication()\n",
        "\n",
        "if __name__ == \"__main__\":\n",
        "    main()\n"
      ]
    },
    {
      "cell_type": "code",
      "execution_count": null,
      "metadata": {
        "id": "ZrCryByqSiNS"
      },
      "outputs": [],
      "source": []
    }
  ],
  "metadata": {
    "colab": {
      "provenance": []
    },
    "kernelspec": {
      "display_name": "final_env",
      "language": "python",
      "name": "python3"
    },
    "language_info": {
      "codemirror_mode": {
        "name": "ipython",
        "version": 3
      },
      "file_extension": ".py",
      "mimetype": "text/x-python",
      "name": "python",
      "nbconvert_exporter": "python",
      "pygments_lexer": "ipython3",
      "version": "3.8.18"
    }
  },
  "nbformat": 4,
  "nbformat_minor": 0
}
